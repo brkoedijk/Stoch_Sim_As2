{
 "cells": [
  {
   "cell_type": "markdown",
   "metadata": {},
   "source": [
    "# Assignment 2 Stochastic Simulation - Discrete Event Simulation "
   ]
  },
  {
   "cell_type": "markdown",
   "metadata": {},
   "source": []
  },
  {
   "cell_type": "markdown",
   "metadata": {},
   "source": [
    "In this assignment we will use the following notation:\n",
    "- $\\lambda$ - the arrival rate into the system.\n",
    "- $\\mu$ - the capacity of eaach of $\\textit{n}$ equal servers.\n",
    "- $\\rho$ - the system load. In a single server system, it will be \n",
    "$\\rho = \\frac{\\lambda}{\\mu}$. In a multi-server system (one queue with $\\textit{n}$ equal servers, each with capacity $\\mu$), it will be $\\rho = \\frac{\\lambda}{n \\mu}$\n",
    "\n",
    "The mean waiting time for an M/M/1 queuing system is defined by:\n",
    "\n",
    "$$\n",
    "E(W) = E(s) - \\frac{1}{\\mu} = \\frac{\\frac{\\rho}{\\mu}}{1 - \\rho}\n",
    "$$\n",
    "\n",
    "\n",
    "The mean waiting time for an M/M/n queuing system is defined by:\n",
    "\n",
    "$$\n",
    "E(W) = \\Pi_W \\cdot \\frac{1}{1 - \\rho} \\cdot \\frac{1}{n \\mu}\n",
    "$$\n",
    "\n",
    "where \\( n \\) is defined as the number of servers that are available.\n",
    "\n",
    "In the case of multiple servers, the probability that all servers are full has to be taken into account. \n",
    "This is defined as:\n",
    "\n",
    "$$\n",
    "\\Pi_W = \\rho_n + \\rho_{n+1} + \\rho_{n+2} + \\cdots = \\frac{\\rho_{c}}{1 - \\rho}\n",
    "$$\n"
   ]
  },
  {
   "cell_type": "code",
   "execution_count": 19,
   "metadata": {},
   "outputs": [],
   "source": [
    "import numpy\n",
    "import simpy\n",
    "from random import seed\n",
    "from scipy.stats import t\n",
    "from scipy.stats import ttest_ind\n",
    "import random\n",
    "import statistics\n",
    "import matplotlib.pyplot as plt"
   ]
  },
  {
   "cell_type": "code",
   "execution_count": 76,
   "metadata": {},
   "outputs": [
    {
     "name": "stdout",
     "output_type": "stream",
     "text": [
      "Mean interarrival times by n: {1: 4.2105263157894735, 2: 2.1052631578947367, 4: 1.0526315789473684}\n",
      "Mean interarrival times by n: {1: 4.2105263157894735, 2: 2.1052631578947367, 4: 1.0526315789473684}\n",
      "Mean interarrival times by n: {1: 4.2105263157894735, 2: 2.1052631578947367, 4: 1.0526315789473684}\n",
      "\n",
      "Simulation results for n = 1,2 and 4:\n",
      "\n",
      "Simulation results for n=1, 2, and 4 with Confidence Intervals:\n",
      "Servers: 1, Mean Waiting Time: 5.1408, 95% CI: (2.6993, 7.5823)\n",
      "Servers: 2, Mean Waiting Time: 1.9810, 95% CI: (0.6067, 3.3553)\n",
      "Servers: 4, Mean Waiting Time: 0.2421, 95% CI: (0.0470, 0.4372)\n"
     ]
    }
   ],
   "source": [
    "number_of_servers = [1,2,4]\n",
    "\n",
    "def simulate_mmn( mean_interarrival, mean_service_time, n, simulation_time, random_seed):\n",
    "    random.seed(random_seed)\n",
    "\n",
    "    waitingTimes = []\n",
    "    serviceTimes = []\n",
    "    interarrivalTimes = []\n",
    "    queue_lengths = []\n",
    "    timestamps = []\n",
    "\n",
    "    def generator(env, interval, server):  # customer generator with interarrival times.\n",
    "        \"\"\"generator generates customers randomly\"\"\"\n",
    "        while True:\n",
    "            c = customer(env, f'Customer_{env.now:.2f}', server, service_time=random.expovariate(1.0/mean_service_time))\n",
    "            env.process(c)\n",
    "            t = random.expovariate(1.0/ interval)\n",
    "            interarrivalTimes.append(t)\n",
    "            yield env.timeout(t)  # adds time to the counter, does not delete from the memory\n",
    "\n",
    "    def customer(env, name, server, service_time):\n",
    "        # customer arrives to the system, waits and leaves\n",
    "        arrive = env.now\n",
    "        #print('%7.4f : Arrival time of %s' % (arrive, name))\n",
    "        with server.request() as req:\n",
    "            results = yield req | env.timeout(arrive)\n",
    "            \n",
    "            if req in results:\n",
    "                servertime = service_time\n",
    "                yield env.timeout(servertime)\n",
    "                serviceTimes.append(servertime)\n",
    "            else:\n",
    "                waiting_time = env.now - arrive\n",
    "                waitingTimes.append(waiting_time)\n",
    "       \n",
    "    def monitor(env, server):\n",
    "        while True:\n",
    "            queue_lengths.append(len(server.queue))\n",
    "            timestamps.append(env.now)\n",
    "            yield env.timeout(1)\n",
    "\n",
    "    env = simpy.Environment()\n",
    "    server = simpy.Resource(env, capacity=n)  # capacity changes the number of generators in the system.\n",
    "    env.process(generator(env, mean_interarrival, server))\n",
    "    env.process(monitor(env, server))\n",
    "    env.run(until=simulation_time)\n",
    "    #interarrivalTimes.append(interarrival)\n",
    "\n",
    "    average_interarrival = statistics.mean(interarrivalTimes)\n",
    "    average_waitingTime = statistics.mean(waitingTimes) if waitingTimes else 0\n",
    "    average_serviceTime = statistics.mean(serviceTimes)\n",
    "    return {\n",
    "        \"servers\": n,\n",
    "        \"average_interarrival\": average_interarrival,\n",
    "        \"average_waitingTime\": average_waitingTime,\n",
    "        \"average_serviceTime\": average_serviceTime,\n",
    "        \"queue_lengths\" : queue_lengths,\n",
    "        \"timestamps\" : timestamps\n",
    "    }\n",
    "\n",
    "def confidence_interval(data, confidence=0.95):\n",
    "    n = len(data)\n",
    "    mean = numpy.mean(data)\n",
    "    std_err = numpy.std(data, ddof=1) / numpy.sqrt(n)\n",
    "    t_value = t.ppf((1+ confidence)/2, df=n-1)\n",
    "    return mean, mean - t_value * std_err, mean + t_value * std_err  \n",
    "\n",
    "system_load = 0.95\n",
    "mean_service_time = 4\n",
    "simulations = 50\n",
    "servers = [1,2,4]\n",
    "simulation_time = 2000\n",
    "\n",
    "random.seed(42)\n",
    "\n",
    "service_rate = 1/mean_service_time\n",
    "mean_interarrival_by_n = {n: 1 / (n*system_load * service_rate) for n in servers}\n",
    "\n",
    "results = {1: [], 2: [], 4: []}\n",
    "queue_length = {n: [] for n in servers}\n",
    "time_data = {n: [] for n in servers}\n",
    "\n",
    "for n in servers:\n",
    "    mean_interarrival = mean_interarrival_by_n[n]\n",
    "    print(f\"Mean interarrival times by n: {mean_interarrival_by_n}\")\n",
    "    for _ in range(simulations):\n",
    "        random_seed = random.randint(0,10000)\n",
    "        result = simulate_mmn( mean_interarrival, mean_service_time, n, simulation_time, random.randint(0, 10000))\n",
    "        results[n].append(result['average_waitingTime'])\n",
    "        queue_length[n].append(result['queue_lengths'])\n",
    "        time_data[n].append(result['timestamps'])\n",
    "        # print(f\"Server {n}, Simulation {_}, Average Waiting Time: {result['average_waitingTime']}\")\n",
    "        # print(f\"Results[{n}]: {results[n]}\")\n",
    "\n",
    "\n",
    "print(\"\\nSimulation results for n = 1,2 and 4:\")\n",
    "# Output results with confidence intervals\n",
    "print(\"\\nSimulation results for n=1, 2, and 4 with Confidence Intervals:\")\n",
    "for n in results:\n",
    "    mean, ci_lower, ci_upper = confidence_interval(results[n]) \n",
    "    print(\n",
    "        f\"Servers: {n}, \"\n",
    "        f\"Mean Waiting Time: {mean:.4f}, \"\n",
    "        f\"95% CI: ({ci_lower:.4f}, {ci_upper:.4f})\"\n",
    "    )\n",
    "\n"
   ]
  },
  {
   "cell_type": "code",
   "execution_count": 77,
   "metadata": {},
   "outputs": [
    {
     "name": "stdout",
     "output_type": "stream",
     "text": [
      "T-statistic: 2.2664, P-value: 0.0262\n",
      "Result is statistically significant and we can reject H0 that the mean waiting time between n=1 and n=2 does not differ significantly.\n",
      "T-statistic: 2.2664, P-value: 0.0262\n",
      "The result is statistically significant and the null hypotheses that the mean waiting time of groups n=2 and n=4 do not differ significantly, is rejected\n"
     ]
    }
   ],
   "source": [
    "t_stat_1, p_value_1 = ttest_ind(results[1], results[2], equal_var=False)\n",
    "print(f\"T-statistic: {t_stat_1:.4f}, P-value: {p_value_1:.4f}\")\n",
    "\n",
    "if p_value_1 < 0.05:\n",
    "    print(\"Result is statistically significant and we can reject H0 that the mean waiting time between n=1 and n=2 does not differ significantly.\")\n",
    "else:\n",
    "    print(\"Result is not statistically significant and we fail to reject H0\")\n",
    "\n",
    "t_stat_2, p_value_2 = ttest_ind(results[2], results[4], equal_var=False)\n",
    "print(f\"T-statistic: {t_stat_1:.4f}, P-value: {p_value_1:.4f}\")\n",
    "\n",
    "if p_value_2 < 0.05:\n",
    "    print(\"The result is statistically significant and the null hypotheses that the mean waiting time of groups n=2 and n=4 do not differ significantly, is rejected\")\n",
    "else:\n",
    "    print(\"Result is not statistically significant and we cannot reject H0\")"
   ]
  },
  {
   "cell_type": "code",
   "execution_count": 83,
   "metadata": {},
   "outputs": [
    {
     "data": {
      "image/png": "[encoded data removed]",
      "text/plain": [
       "<Figure size 1200x400 with 3 Axes>"
      ]
     },
     "metadata": {},
     "output_type": "display_data"
    }
   ],
   "source": [
    "fig, axes = plt.subplots(1, 3, figsize=(12, 4), sharey=True)\n",
    "\n",
    "for i, n in enumerate([1, 2, 4]):\n",
    "    axes[i].boxplot(results[n], vert=True, labels=[n])\n",
    "    axes[i].set_title(f\"n={n}\")\n",
    "    axes[i].set_xlabel(\"Number of Servers\")\n",
    "    axes[i].grid(True, linestyle='--', alpha=0.7)\n",
    "    axes[i].set_ylim(-0.5,10)\n",
    "\n",
    "    axes[i].set_ylabel(\"Waiting Time\")\n",
    "plt.suptitle(\"Waiting Times per Server Configuration\")\n",
    "plt.show()\n"
   ]
  },
  {
   "cell_type": "code",
   "execution_count": 89,
   "metadata": {},
   "outputs": [
    {
     "name": "stdout",
     "output_type": "stream",
     "text": [
      "[ 0.    0.08  0.2  ... 15.36 15.3  15.28]\n",
      "[ 0.    0.04  0.16 ... 14.5  14.6  14.48]\n",
      "[ 0.    0.02  0.04 ... 17.72 17.74 17.96]\n"
     ]
    }
   ],
   "source": [
    "# Compute average queue length and confidence intervals for each time step\n",
    "import numpy as np\n",
    "\n",
    "plot_data = {}\n",
    "for n in servers:\n",
    "    # Align data to the same length (truncate longer runs to the shortest run time)\n",
    "    min_length = min(len(run) for run in queue_length[n])\n",
    "    aligned_data = [run[:min_length] for run in queue_length[n]]\n",
    "    timestamps = time_data[n][0][:min_length]  # Use timestamps from the first simulation\n",
    "\n",
    "    # Compute averages and confidence intervals\n",
    "    averages = np.mean(aligned_data, axis=0)\n",
    "    print(averages)\n",
    "    ci_lower = averages - 1.96 * np.std(aligned_data, axis=0) / np.sqrt(len(aligned_data))\n",
    "    ci_upper = averages + 1.96 * np.std(aligned_data, axis=0) / np.sqrt(len(aligned_data))\n",
    "\n",
    "    #averages, ci_lower, ci_upper = confidence_interval(results[n]) \n",
    "    plot_data[n] = {\n",
    "        \"timestamps\": timestamps,\n",
    "        \"averages\": averages,\n",
    "        \"ci_lower\": ci_lower,\n",
    "        \"ci_upper\": ci_upper\n",
    "    }\n"
   ]
  },
  {
   "cell_type": "code",
   "execution_count": 88,
   "metadata": {},
   "outputs": [
    {
     "ename": "ValueError",
     "evalue": "x and y must have same first dimension, but have shapes (2000,) and (1,)",
     "output_type": "error",
     "traceback": [
      "\u001b[0;31m---------------------------------------------------------------------------\u001b[0m",
      "\u001b[0;31mValueError\u001b[0m                                Traceback (most recent call last)",
      "Cell \u001b[0;32mIn[88], line 10\u001b[0m\n\u001b[1;32m      7\u001b[0m     ci_lower \u001b[38;5;241m=\u001b[39m plot_data[n][\u001b[38;5;124m\"\u001b[39m\u001b[38;5;124mci_lower\u001b[39m\u001b[38;5;124m\"\u001b[39m]\n\u001b[1;32m      8\u001b[0m     ci_upper \u001b[38;5;241m=\u001b[39m plot_data[n][\u001b[38;5;124m\"\u001b[39m\u001b[38;5;124mci_upper\u001b[39m\u001b[38;5;124m\"\u001b[39m]\n\u001b[0;32m---> 10\u001b[0m     \u001b[43mplt\u001b[49m\u001b[38;5;241;43m.\u001b[39;49m\u001b[43mplot\u001b[49m\u001b[43m(\u001b[49m\u001b[43mtimestamps\u001b[49m\u001b[43m,\u001b[49m\u001b[43m \u001b[49m\u001b[43maverages\u001b[49m\u001b[43m,\u001b[49m\u001b[43m \u001b[49m\u001b[43mlabel\u001b[49m\u001b[38;5;241;43m=\u001b[39;49m\u001b[38;5;124;43mf\u001b[39;49m\u001b[38;5;124;43m'\u001b[39;49m\u001b[38;5;124;43mn=\u001b[39;49m\u001b[38;5;132;43;01m{\u001b[39;49;00m\u001b[43mn\u001b[49m\u001b[38;5;132;43;01m}\u001b[39;49;00m\u001b[38;5;124;43m'\u001b[39;49m\u001b[43m)\u001b[49m\n\u001b[1;32m     11\u001b[0m     plt\u001b[38;5;241m.\u001b[39mfill_between(timestamps, ci_lower, ci_upper, alpha\u001b[38;5;241m=\u001b[39m\u001b[38;5;241m0.2\u001b[39m)\n\u001b[1;32m     13\u001b[0m plt\u001b[38;5;241m.\u001b[39mtitle(\u001b[38;5;124m\"\u001b[39m\u001b[38;5;124mAverage Queue Length Over Time\u001b[39m\u001b[38;5;124m\"\u001b[39m)\n",
      "File \u001b[0;32m~/Library/Python/3.9/lib/python/site-packages/matplotlib/pyplot.py:2812\u001b[0m, in \u001b[0;36mplot\u001b[0;34m(scalex, scaley, data, *args, **kwargs)\u001b[0m\n\u001b[1;32m   2810\u001b[0m \u001b[38;5;129m@_copy_docstring_and_deprecators\u001b[39m(Axes\u001b[38;5;241m.\u001b[39mplot)\n\u001b[1;32m   2811\u001b[0m \u001b[38;5;28;01mdef\u001b[39;00m \u001b[38;5;21mplot\u001b[39m(\u001b[38;5;241m*\u001b[39margs, scalex\u001b[38;5;241m=\u001b[39m\u001b[38;5;28;01mTrue\u001b[39;00m, scaley\u001b[38;5;241m=\u001b[39m\u001b[38;5;28;01mTrue\u001b[39;00m, data\u001b[38;5;241m=\u001b[39m\u001b[38;5;28;01mNone\u001b[39;00m, \u001b[38;5;241m*\u001b[39m\u001b[38;5;241m*\u001b[39mkwargs):\n\u001b[0;32m-> 2812\u001b[0m     \u001b[38;5;28;01mreturn\u001b[39;00m \u001b[43mgca\u001b[49m\u001b[43m(\u001b[49m\u001b[43m)\u001b[49m\u001b[38;5;241;43m.\u001b[39;49m\u001b[43mplot\u001b[49m\u001b[43m(\u001b[49m\n\u001b[1;32m   2813\u001b[0m \u001b[43m        \u001b[49m\u001b[38;5;241;43m*\u001b[39;49m\u001b[43margs\u001b[49m\u001b[43m,\u001b[49m\u001b[43m \u001b[49m\u001b[43mscalex\u001b[49m\u001b[38;5;241;43m=\u001b[39;49m\u001b[43mscalex\u001b[49m\u001b[43m,\u001b[49m\u001b[43m \u001b[49m\u001b[43mscaley\u001b[49m\u001b[38;5;241;43m=\u001b[39;49m\u001b[43mscaley\u001b[49m\u001b[43m,\u001b[49m\n\u001b[1;32m   2814\u001b[0m \u001b[43m        \u001b[49m\u001b[38;5;241;43m*\u001b[39;49m\u001b[38;5;241;43m*\u001b[39;49m\u001b[43m(\u001b[49m\u001b[43m{\u001b[49m\u001b[38;5;124;43m\"\u001b[39;49m\u001b[38;5;124;43mdata\u001b[39;49m\u001b[38;5;124;43m\"\u001b[39;49m\u001b[43m:\u001b[49m\u001b[43m \u001b[49m\u001b[43mdata\u001b[49m\u001b[43m}\u001b[49m\u001b[43m \u001b[49m\u001b[38;5;28;43;01mif\u001b[39;49;00m\u001b[43m \u001b[49m\u001b[43mdata\u001b[49m\u001b[43m \u001b[49m\u001b[38;5;129;43;01mis\u001b[39;49;00m\u001b[43m \u001b[49m\u001b[38;5;129;43;01mnot\u001b[39;49;00m\u001b[43m \u001b[49m\u001b[38;5;28;43;01mNone\u001b[39;49;00m\u001b[43m \u001b[49m\u001b[38;5;28;43;01melse\u001b[39;49;00m\u001b[43m \u001b[49m\u001b[43m{\u001b[49m\u001b[43m}\u001b[49m\u001b[43m)\u001b[49m\u001b[43m,\u001b[49m\u001b[43m \u001b[49m\u001b[38;5;241;43m*\u001b[39;49m\u001b[38;5;241;43m*\u001b[39;49m\u001b[43mkwargs\u001b[49m\u001b[43m)\u001b[49m\n",
      "File \u001b[0;32m~/Library/Python/3.9/lib/python/site-packages/matplotlib/axes/_axes.py:1688\u001b[0m, in \u001b[0;36mAxes.plot\u001b[0;34m(self, scalex, scaley, data, *args, **kwargs)\u001b[0m\n\u001b[1;32m   1445\u001b[0m \u001b[38;5;250m\u001b[39m\u001b[38;5;124;03m\"\"\"\u001b[39;00m\n\u001b[1;32m   1446\u001b[0m \u001b[38;5;124;03mPlot y versus x as lines and/or markers.\u001b[39;00m\n\u001b[1;32m   1447\u001b[0m \n\u001b[0;32m   (...)\u001b[0m\n\u001b[1;32m   1685\u001b[0m \u001b[38;5;124;03m(``'green'``) or hex strings (``'#008000'``).\u001b[39;00m\n\u001b[1;32m   1686\u001b[0m \u001b[38;5;124;03m\"\"\"\u001b[39;00m\n\u001b[1;32m   1687\u001b[0m kwargs \u001b[38;5;241m=\u001b[39m cbook\u001b[38;5;241m.\u001b[39mnormalize_kwargs(kwargs, mlines\u001b[38;5;241m.\u001b[39mLine2D)\n\u001b[0;32m-> 1688\u001b[0m lines \u001b[38;5;241m=\u001b[39m [\u001b[38;5;241m*\u001b[39m\u001b[38;5;28mself\u001b[39m\u001b[38;5;241m.\u001b[39m_get_lines(\u001b[38;5;241m*\u001b[39margs, data\u001b[38;5;241m=\u001b[39mdata, \u001b[38;5;241m*\u001b[39m\u001b[38;5;241m*\u001b[39mkwargs)]\n\u001b[1;32m   1689\u001b[0m \u001b[38;5;28;01mfor\u001b[39;00m line \u001b[38;5;129;01min\u001b[39;00m lines:\n\u001b[1;32m   1690\u001b[0m     \u001b[38;5;28mself\u001b[39m\u001b[38;5;241m.\u001b[39madd_line(line)\n",
      "File \u001b[0;32m~/Library/Python/3.9/lib/python/site-packages/matplotlib/axes/_base.py:311\u001b[0m, in \u001b[0;36m_process_plot_var_args.__call__\u001b[0;34m(self, data, *args, **kwargs)\u001b[0m\n\u001b[1;32m    309\u001b[0m     this \u001b[38;5;241m+\u001b[39m\u001b[38;5;241m=\u001b[39m args[\u001b[38;5;241m0\u001b[39m],\n\u001b[1;32m    310\u001b[0m     args \u001b[38;5;241m=\u001b[39m args[\u001b[38;5;241m1\u001b[39m:]\n\u001b[0;32m--> 311\u001b[0m \u001b[38;5;28;01myield from\u001b[39;00m \u001b[38;5;28;43mself\u001b[39;49m\u001b[38;5;241;43m.\u001b[39;49m\u001b[43m_plot_args\u001b[49m\u001b[43m(\u001b[49m\n\u001b[1;32m    312\u001b[0m \u001b[43m    \u001b[49m\u001b[43mthis\u001b[49m\u001b[43m,\u001b[49m\u001b[43m \u001b[49m\u001b[43mkwargs\u001b[49m\u001b[43m,\u001b[49m\u001b[43m \u001b[49m\u001b[43mambiguous_fmt_datakey\u001b[49m\u001b[38;5;241;43m=\u001b[39;49m\u001b[43mambiguous_fmt_datakey\u001b[49m\u001b[43m)\u001b[49m\n",
      "File \u001b[0;32m~/Library/Python/3.9/lib/python/site-packages/matplotlib/axes/_base.py:504\u001b[0m, in \u001b[0;36m_process_plot_var_args._plot_args\u001b[0;34m(self, tup, kwargs, return_kwargs, ambiguous_fmt_datakey)\u001b[0m\n\u001b[1;32m    501\u001b[0m     \u001b[38;5;28mself\u001b[39m\u001b[38;5;241m.\u001b[39maxes\u001b[38;5;241m.\u001b[39myaxis\u001b[38;5;241m.\u001b[39mupdate_units(y)\n\u001b[1;32m    503\u001b[0m \u001b[38;5;28;01mif\u001b[39;00m x\u001b[38;5;241m.\u001b[39mshape[\u001b[38;5;241m0\u001b[39m] \u001b[38;5;241m!=\u001b[39m y\u001b[38;5;241m.\u001b[39mshape[\u001b[38;5;241m0\u001b[39m]:\n\u001b[0;32m--> 504\u001b[0m     \u001b[38;5;28;01mraise\u001b[39;00m \u001b[38;5;167;01mValueError\u001b[39;00m(\u001b[38;5;124mf\u001b[39m\u001b[38;5;124m\"\u001b[39m\u001b[38;5;124mx and y must have same first dimension, but \u001b[39m\u001b[38;5;124m\"\u001b[39m\n\u001b[1;32m    505\u001b[0m                      \u001b[38;5;124mf\u001b[39m\u001b[38;5;124m\"\u001b[39m\u001b[38;5;124mhave shapes \u001b[39m\u001b[38;5;132;01m{\u001b[39;00mx\u001b[38;5;241m.\u001b[39mshape\u001b[38;5;132;01m}\u001b[39;00m\u001b[38;5;124m and \u001b[39m\u001b[38;5;132;01m{\u001b[39;00my\u001b[38;5;241m.\u001b[39mshape\u001b[38;5;132;01m}\u001b[39;00m\u001b[38;5;124m\"\u001b[39m)\n\u001b[1;32m    506\u001b[0m \u001b[38;5;28;01mif\u001b[39;00m x\u001b[38;5;241m.\u001b[39mndim \u001b[38;5;241m>\u001b[39m \u001b[38;5;241m2\u001b[39m \u001b[38;5;129;01mor\u001b[39;00m y\u001b[38;5;241m.\u001b[39mndim \u001b[38;5;241m>\u001b[39m \u001b[38;5;241m2\u001b[39m:\n\u001b[1;32m    507\u001b[0m     \u001b[38;5;28;01mraise\u001b[39;00m \u001b[38;5;167;01mValueError\u001b[39;00m(\u001b[38;5;124mf\u001b[39m\u001b[38;5;124m\"\u001b[39m\u001b[38;5;124mx and y can be no greater than 2D, but have \u001b[39m\u001b[38;5;124m\"\u001b[39m\n\u001b[1;32m    508\u001b[0m                      \u001b[38;5;124mf\u001b[39m\u001b[38;5;124m\"\u001b[39m\u001b[38;5;124mshapes \u001b[39m\u001b[38;5;132;01m{\u001b[39;00mx\u001b[38;5;241m.\u001b[39mshape\u001b[38;5;132;01m}\u001b[39;00m\u001b[38;5;124m and \u001b[39m\u001b[38;5;132;01m{\u001b[39;00my\u001b[38;5;241m.\u001b[39mshape\u001b[38;5;132;01m}\u001b[39;00m\u001b[38;5;124m\"\u001b[39m)\n",
      "\u001b[0;31mValueError\u001b[0m: x and y must have same first dimension, but have shapes (2000,) and (1,)"
     ]
    },
    {
     "data": {
      "image/png": "[encoded data removed]",
      "text/plain": [
       "<Figure size 640x480 with 1 Axes>"
      ]
     },
     "metadata": {},
     "output_type": "display_data"
    }
   ],
   "source": [
    "import matplotlib.pyplot as plt\n",
    "\n",
    "# Plot queue lengths over time\n",
    "for n in servers:\n",
    "    timestamps = plot_data[n][\"timestamps\"]\n",
    "    averages = plot_data[n][\"averages\"]\n",
    "    ci_lower = plot_data[n][\"ci_lower\"]\n",
    "    ci_upper = plot_data[n][\"ci_upper\"]\n",
    "\n",
    "    plt.plot(timestamps, averages, label=f'n={n}')\n",
    "    plt.fill_between(timestamps, ci_lower, ci_upper, alpha=0.2)\n",
    "\n",
    "plt.title(\"Average Queue Length Over Time\")\n",
    "plt.xlabel(\"Time\")\n",
    "plt.ylabel(\"Average Queue Length\")\n",
    "plt.legend()\n",
    "plt.grid(True, linestyle='--', alpha=0.7)\n",
    "plt.show()\n"
   ]
  }
 ],
 "metadata": {
  "kernelspec": {
   "display_name": "Python 3",
   "language": "python",
   "name": "python3"
  },
  "language_info": {
   "codemirror_mode": {
    "name": "ipython",
    "version": 3
   },
   "file_extension": ".py",
   "mimetype": "text/x-python",
   "name": "python",
   "nbconvert_exporter": "python",
   "pygments_lexer": "ipython3",
   "version": "3.9.1"
  }
 },
 "nbformat": 4,
 "nbformat_minor": 2
}
