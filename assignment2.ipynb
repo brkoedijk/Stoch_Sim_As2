{
 "cells": [
  {
   "cell_type": "markdown",
   "metadata": {},
   "source": [
    "# Assignment 2 Stochastic Simulation - Discrete Event Simulation "
   ]
  },
  {
   "cell_type": "markdown",
   "metadata": {},
   "source": []
  },
  {
   "cell_type": "markdown",
   "metadata": {},
   "source": [
    "In this assignment we will use the following notation:\n",
    "- $\\lambda$ - the arrival rate into the system.\n",
    "- $\\mu$ - the capacity of eaach of $\\textit{n}$ equal servers.\n",
    "- $\\rho$ - the system load. In a single server system, it will be \n",
    "$\\rho = \\frac{\\lambda}{\\mu}$. In a multi-server system (one queue with $\\textit{n}$ equal servers, each with capacity $\\mu$), it will be $\\rho = \\frac{\\lambda}{n \\mu}$\n",
    "\n",
    "The mean waiting time for an M/M/1 queuing system is defined by:\n",
    "\n",
    "$$\n",
    "E(W) = E(s) - \\frac{1}{\\mu} = \\frac{\\frac{\\rho}{\\mu}}{1 - \\rho}\n",
    "$$\n",
    "\n",
    "\n",
    "The mean waiting time for an M/M/n queuing system is defined by:\n",
    "\n",
    "$$\n",
    "E(W) = \\Pi_W \\cdot \\frac{1}{1 - \\rho} \\cdot \\frac{1}{n \\mu}\n",
    "$$\n",
    "\n",
    "where \\( n \\) is defined as the number of servers that are available.\n",
    "\n",
    "In the case of multiple servers, the probability that all servers are full has to be taken into account. \n",
    "This is defined as:\n",
    "\n",
    "$$\n",
    "\\Pi_W = \\rho_n + \\rho_{n+1} + \\rho_{n+2} + \\cdots = \\frac{\\rho_{c}}{1 - \\rho}\n",
    "$$\n"
   ]
  },
  {
   "cell_type": "code",
   "execution_count": 1,
   "metadata": {},
   "outputs": [
    {
     "name": "stdout",
     "output_type": "stream",
     "text": [
      "Before timeout: now=0\n",
      "After timeout: now=1, value=42\n"
     ]
    }
   ],
   "source": [
    "import simpy\n",
    "\n",
    "def example(env):\n",
    "    print(\"Before timeout: now=%d\" % (env.now))\n",
    "    value = yield env.timeout(1, value=42)\n",
    "    print(\"After timeout: now=%d, value=%d\" % (env.now, value))\n",
    "\n",
    "env = simpy.Environment()\n",
    "p = env.process(example(env))\n",
    "\n",
    "env.run()"
   ]
  }
 ],
 "metadata": {
  "kernelspec": {
   "display_name": "Python 3",
   "language": "python",
   "name": "python3"
  },
  "language_info": {
   "codemirror_mode": {
    "name": "ipython",
    "version": 3
   },
   "file_extension": ".py",
   "mimetype": "text/x-python",
   "name": "python",
   "nbconvert_exporter": "python",
   "pygments_lexer": "ipython3",
   "version": "3.9.1"
  }
 },
 "nbformat": 4,
 "nbformat_minor": 2
}
