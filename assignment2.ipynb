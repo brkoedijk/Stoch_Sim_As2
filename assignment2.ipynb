{
 "cells": [
  {
   "cell_type": "markdown",
   "metadata": {},
   "source": [
    "# Assignment 2 Stochastic Simulation - Discrete Event Simulation "
   ]
  },
  {
   "cell_type": "markdown",
   "metadata": {},
   "source": []
  },
  {
   "cell_type": "markdown",
   "metadata": {},
   "source": [
    "In this assignment we will use the following notation:\n",
    "- $\\lambda$ - the arrival rate into the system.\n",
    "- $\\mu$ - the capacity of eaach of $\\textit{n}$ equal servers.\n",
    "- $\\rho$ - the system load. In a single server system, it will be \n",
    "$\\rho = \\frac{\\lambda}{\\mu}$. In a multi-server system (one queue with $\\textit{n}$ equal servers, each with capacity $\\mu$), it will be $\\rho = \\frac{\\lambda}{n \\mu}$\n",
    "\n",
    "The mean waiting time for an M/M/1 queuing system is defined by:\n",
    "\n",
    "$$\n",
    "E(W) = E(s) - \\frac{1}{\\mu} = \\frac{\\frac{\\rho}{\\mu}}{1 - \\rho}\n",
    "$$\n",
    "\n",
    "\n",
    "The mean waiting time for an M/M/n queuing system is defined by:\n",
    "\n",
    "$$\n",
    "E(W) = \\Pi_W \\cdot \\frac{1}{1 - \\rho} \\cdot \\frac{1}{n \\mu}\n",
    "$$\n",
    "\n",
    "where \\( n \\) is defined as the number of servers that are available.\n",
    "\n",
    "In the case of multiple servers, the probability that all servers are full has to be taken into account. \n",
    "This is defined as:\n",
    "\n",
    "$$\n",
    "\\Pi_W = \\rho_n + \\rho_{n+1} + \\rho_{n+2} + \\cdots = \\frac{\\rho_{c}}{1 - \\rho}\n",
    "$$\n"
   ]
  },
  {
   "cell_type": "code",
   "execution_count": 54,
   "metadata": {},
   "outputs": [],
   "source": [
    "import numpy\n",
    "import simpy\n",
    "from random import seed\n",
    "from scipy.stats import t\n",
    "from scipy.stats import ttest_ind\n",
    "import random\n",
    "import statistics"
   ]
  },
  {
   "cell_type": "code",
   "execution_count": 52,
   "metadata": {},
   "outputs": [
    {
     "name": "stdout",
     "output_type": "stream",
     "text": [
      "\n",
      "Simulation results for n = 1,2 and 4:\n",
      "\n",
      "Simulation results for n=1, 2, and 4 with Confidence Intervals:\n",
      "Servers: 1, Mean Waiting Time: 9.7907, 95% CI: (4.4324, 15.1489)\n",
      "Servers: 2, Mean Waiting Time: 3.7731, 95% CI: (1.3225, 6.2237)\n",
      "Servers: 4, Mean Waiting Time: 4.6815, 95% CI: (nan, nan)\n"
     ]
    }
   ],
   "source": [
    "number_of_servers = [1,2,4]\n",
    "\n",
    "def simulate_mmn(new_customers, mean_interarrival, mean_service_time, n, random_seed):\n",
    "    random.seed(random_seed)\n",
    "\n",
    "    waitingTimes = []\n",
    "    serviceTimes = []\n",
    "    interarrivalTimes = []\n",
    "\n",
    "    def generator(env, number, interval, server):  # customer generator with interarrival times.\n",
    "        \"\"\"generator generates customers randomly\"\"\"\n",
    "        for i in range(number):\n",
    "            c = customer(env, 'Customer%02d' % i, server, service_time=random.expovariate(1.0/mean_service_time))\n",
    "            env.process(c)\n",
    "            t = random.expovariate(1.0/ interval)\n",
    "            interarrivalTimes.append(t)\n",
    "            yield env.timeout(t)  # adds time to the counter, does not delete from the memory\n",
    "\n",
    "    def customer(env, name, server, service_time):\n",
    "        # customer arrives to the system, waits and leaves\n",
    "        arrive = env.now\n",
    "        #print('%7.4f : Arrival time of %s' % (arrive, name))\n",
    "        with server.request() as req:\n",
    "            results = yield req | env.timeout(arrive)\n",
    "            \n",
    "            if req in results:\n",
    "                servertime = service_time\n",
    "                yield env.timeout(servertime)\n",
    "                serviceTimes.append(servertime)\n",
    "                #print('%7.4f Departure Time of %s' % (env.now, name))\n",
    "                #print('%7.4f Time Spent in the system of %s' % (env.now - arrive, name))\n",
    "            else:\n",
    "                waiting_time = env.now - arrive\n",
    "                waitingTimes.append(waiting_time)\n",
    "                #print('%6.3f Waiting time of %s' % (waiting_time, name))\n",
    "    \n",
    "    env = simpy.Environment()\n",
    "    server = simpy.Resource(env, capacity=n)  # capacity changes the number of generators in the system.\n",
    "    env.process(generator(env, new_customers, mean_interarrival, server))\n",
    "    env.run()\n",
    "    #interarrivalTimes.append(interarrival)\n",
    "\n",
    "    average_interarrival = statistics.mean(interarrivalTimes)\n",
    "    average_waitingTime = statistics.mean(waitingTimes) if waitingTimes else 0\n",
    "    average_serviceTime = statistics.mean(serviceTimes)\n",
    "    return {\n",
    "        \"servers\": n,\n",
    "        \"average_interarrival\": average_interarrival,\n",
    "        \"average_waitingTime\": average_waitingTime,\n",
    "        \"average_serviceTime\": average_serviceTime\n",
    "    }\n",
    "\n",
    "def confidence_interval(data, confidence=0.95):\n",
    "    n = len(data)\n",
    "    mean = numpy.mean(data)\n",
    "    std_err = numpy.std(data, ddof=1) / numpy.sqrt(n)\n",
    "    t_value = t.ppf((1+ confidence)/2, df=n-1)\n",
    "    return mean, mean - t_value * std_err, mean + t_value * std_err  \n",
    "\n",
    "system_load = 0.95\n",
    "new_customers = 100\n",
    "mean_service_time = 4\n",
    "simulations = 25\n",
    "servers = [1,2,4]\n",
    "\n",
    "random.seed(42)\n",
    "\n",
    "service_rate = 1/mean_service_time\n",
    "mean_interarrival_by_n = {n: 1 / (n*system_load * service_rate) for n in servers}\n",
    "\n",
    "results = {1: [], 2: [], 4: []}\n",
    "\n",
    "for n in servers:\n",
    "    mean_interarrival = mean_interarrival_by_n[n]\n",
    "    for _ in range(simulations):\n",
    "        random_seed = random.randint(0,10000)\n",
    "        result = simulate_mmn(new_customers, mean_interarrival, mean_service_time, n, random.randint(0, 10000))\n",
    "        if result['average_waitingTime'] > 0:\n",
    "            results[n].append(result['average_waitingTime'])\n",
    "\n",
    "\n",
    "print(\"\\nSimulation results for n = 1,2 and 4:\")\n",
    "# Output results with confidence intervals\n",
    "print(\"\\nSimulation results for n=1, 2, and 4 with Confidence Intervals:\")\n",
    "for n in results:\n",
    "    mean, ci_lower, ci_upper = confidence_interval(results[n]) \n",
    "    print(\n",
    "        f\"Servers: {n}, \"\n",
    "        f\"Mean Waiting Time: {mean:.4f}, \"\n",
    "        f\"95% CI: ({ci_lower:.4f}, {ci_upper:.4f})\"\n",
    "    )\n",
    "\n"
   ]
  },
  {
   "cell_type": "code",
   "execution_count": 53,
   "metadata": {},
   "outputs": [
    {
     "name": "stdout",
     "output_type": "stream",
     "text": [
      "T-statistic: 2.1858, P-value: 0.0397\n",
      "Result is statistically significant and we can reject H0\n"
     ]
    }
   ],
   "source": [
    "t_stat, p_value = ttest_ind(results[1], results[2], equal_var=False)\n",
    "print(f\"T-statistic: {t_stat:.4f}, P-value: {p_value:.4f}\")\n",
    "\n",
    "if p_value < 0.05:\n",
    "    print(\"Result is statistically significant and we can reject H0\")\n",
    "else:\n",
    "    print(\"Result is not statistically significant and we fail to reject H0\")"
   ]
  }
 ],
 "metadata": {
  "kernelspec": {
   "display_name": "Python 3",
   "language": "python",
   "name": "python3"
  },
  "language_info": {
   "codemirror_mode": {
    "name": "ipython",
    "version": 3
   },
   "file_extension": ".py",
   "mimetype": "text/x-python",
   "name": "python",
   "nbconvert_exporter": "python",
   "pygments_lexer": "ipython3",
   "version": "3.9.1"
  }
 },
 "nbformat": 4,
 "nbformat_minor": 2
}
