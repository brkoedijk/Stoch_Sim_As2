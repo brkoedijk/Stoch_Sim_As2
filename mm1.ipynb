{
 "cells": [
  {
   "cell_type": "code",
   "execution_count": 2,
   "metadata": {},
   "outputs": [],
   "source": [
    "import random\n",
    "import sympy as sp\n",
    "import numpy as np\n",
    "import statistics"
   ]
  },
  {
   "cell_type": "code",
   "execution_count": 3,
   "metadata": {},
   "outputs": [],
   "source": [
    "np.random.seed(12345)"
   ]
  },
  {
   "cell_type": "code",
   "execution_count": null,
   "metadata": {},
   "outputs": [],
   "source": [
    "\"\"\"\n",
    "Used: https://stackoverflow.com/questions/73384766/simple-m-m-1-queuing-simulation-with-simpy-departure-placement-issue\n",
    "https://simpy.readthedocs.io/en/latest/examples/bank_renege.html\n",
    "\"\"\"\n",
    "\n",
    "# arrivals follow a Poisson distribution\n",
    "# labda equals 6 so new customer every 6 seconds\n",
    "arrival = np.random.poisson(6, size = None)\n",
    "\n",
    "waiting_times = np.empty \n",
    "service_times = np.empty\n",
    "arrival_times = np.empty\n",
    "\n",
    "def generator(env, customers, interval, server):\n",
    "    \"\"\"\n",
    "    This generator generates customers at random. \n",
    "    env: simpy environment\n",
    "    customers: this equals the amount of customers in the system\n",
    "    interval: In M/M/1 case it uses the poisson distribution as interval rates\n",
    "    server: uses some sympy magic dont know yet\n",
    "    \"\"\" \n",
    "    for i in range(customers): \n",
    "        customer = customer(env, f\"customer{i}\", server, service_time = np.random.exponential(0.15, size = \"None\"))\n",
    "        env.process(customer)\n",
    "        time = np.random.exponential(1.0 / interval, size = \"None\")\n",
    "        yield env.timeout(t)\n",
    "    \n",
    "def customer(env, name, server, service_time):\n",
    "    pass\n",
    "\n",
    "\n"
   ]
  }
 ],
 "metadata": {
  "kernelspec": {
   "display_name": "Python 3",
   "language": "python",
   "name": "python3"
  },
  "language_info": {
   "codemirror_mode": {
    "name": "ipython",
    "version": 3
   },
   "file_extension": ".py",
   "mimetype": "text/x-python",
   "name": "python",
   "nbconvert_exporter": "python",
   "pygments_lexer": "ipython3",
   "version": "3.11.9"
  }
 },
 "nbformat": 4,
 "nbformat_minor": 2
}
